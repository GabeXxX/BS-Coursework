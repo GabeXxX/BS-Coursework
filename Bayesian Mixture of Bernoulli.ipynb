{
 "cells": [
  {
   "cell_type": "code",
   "execution_count": 4,
   "id": "6664819d-c4d3-42c4-92f5-3ffa4cef1681",
   "metadata": {},
   "outputs": [
    {
     "name": "stderr",
     "output_type": "stream",
     "text": [
      "2024-02-03 12:15:34.468317: I tensorflow/core/platform/cpu_feature_guard.cc:182] This TensorFlow binary is optimized to use available CPU instructions in performance-critical operations.\n",
      "To enable the following instructions: AVX2 FMA, in other operations, rebuild TensorFlow with the appropriate compiler flags.\n"
     ]
    }
   ],
   "source": [
    "import numpy as np\n",
    "import tensorflow_probability.substrates.numpy as tfp # numpy substrate is less error prone\n",
    "import matplotlib.pyplot as plt"
   ]
  },
  {
   "cell_type": "markdown",
   "id": "a649c5da-742e-4404-a4d2-71bde65af64c",
   "metadata": {},
   "source": [
    "# Bayesian Mixture of Bernoulli\n",
    "\n",
    "## Mixture Models\n",
    "\n",
    "In mixture model, we account for heterogeneity in the data by assuming that there is not one single data generating process, but actually $K$ of them, such that we expect to find $K$ different clusters in our data, each of which suitably modeled by a density.  \n",
    "\n",
    "Given $\\{y_i\\}_{i=1}^N$, the general model is given by\n",
    "\n",
    "$$\n",
    "    y_i \\mid \\mathbf{\\pi}, \\{p_k\\}_{k=1}^K \\sim p(y) := \\sum_{k=1}^K \\pi_k p_k(y)\n",
    "$$\n",
    "\n",
    "where $p_1(\\cdot), \\dots, p_K(\\cdot)$ are $K$ probability density functions and $\\mathbf{\\pi} = (\\pi_1, \\ldots, \\pi_K)$ s.t $\\sum_{j=1}^K \\pi_j = 1$.\n",
    "\n",
    "The connection to clustering is made more explicit by introducing \"cluster assignment\" or __latent variables__ $z_i$, $i=1, \\dots, n$ such that\n",
    "$$\n",
    "    p(z_i = j \\mid \\mathbf{\\pi}) = \\pi_j\n",
    "$$\n",
    "In other word, $z_i$ is the probability that the data $x_i$ belongs to the cluster j.\n",
    "Then, the mixture likelihood can be restated as the following hierarchical model\n",
    "\n",
    "$$\n",
    "    y_i \\mid z_i = j, \\{p_k\\}_{j=1}^K \\sim p_j\n",
    "$$\n",
    "\n",
    "$$\n",
    "    p(z_i = j  \\mid \\mathbf{\\pi}) = \\pi_j\n",
    "$$"
   ]
  },
  {
   "cell_type": "markdown",
   "id": "50389ad1-147b-430a-b9b8-dcf87c91e98e",
   "metadata": {},
   "source": [
    "## Mixture of Bernoulli Distributions (for binary multivariate data)\n",
    "Consider a set of $D$ binary random variables $x_l$, where $l=1,\\dots,D$, each of which is governed by a Bernoulli distribution with parameter $\\mu_l$\n",
    "$$\n",
    "    x_l | \\mu_l \\sim Be(\\mu_l) = \\mu_l^{x_l}(1-\\mu_l)^{1-x_l}  \\tag{1} \\label{ber}\n",
    "$$\n",
    "such that \n",
    "$$\n",
    "    \\textbf{x} | \\mathbf{ u} =  \\prod_{l=1}^{D} \\mu_l^{x_l}(1-\\mu_l)^{1-x_l}   \\tag{2} \\label{mber}\n",
    "$$  \n",
    "\n",
    "where $ \\textbf{x} = (x_1, \\dots, x_D)^T$ and $\\symbf{ u} = (\\mu_i, \\dots, \\mu_D)^T$. \n",
    "\n",
    "Individual variables $x_l$ are independent given $\\mathbf{\\mu}$. The mean and covariance of this distribution are\n",
    "$$\n",
    "    \\mathbb{E}[\\textbf{x}] = \\mathbf{u}\n",
    "$$\n",
    "$$\n",
    "    \\mathbf{cov}[\\textbf{x}] = diag\\{\\mu_l(1-\\mu_l)\\}\n",
    "$$  \n",
    "\n",
    "The diagonal covariance matrix in this model is not able to capture any interesting relationship between the $D$ variables.  \n",
    "\n",
    "Now let's consider a finite mixture of these distributions:\n",
    "$$\n",
    "    p(\\textbf{x} | \\mathbf{U}, \\mathbf{\\pi}) = \\sum_{j=1}^K \\pi_j p(\\textbf{x} | \\mathbf{u}_j)  \\tag{3} \\label{mixber}\n",
    "$$\n",
    "where $\\mathbf{U} = \\{\\mathbf{u}_1, \\dots, \\mathbf{u}_K \\}$, $\\mathbf{\\pi} = (\\pi_1, \\dots, \\pi_k)$ and\n",
    "$$\n",
    "    p(\\textbf{x} | \\mathbf{u}_j) = \\prod_{l=1}^{D} \\mu_{jl}^{x_l}(1-\\mu_{jl})^{1-x_l}\n",
    "$$\n",
    "\n",
    "The mean and covariance of this mixture distriubtion are given by\n",
    "$$\n",
    "    \\mathbb{E}[\\textbf{x}] = \\sum_{j=1}^K \\pi_j \\mathbf{u}_j\n",
    "$$\n",
    "$$\n",
    "    \\mathbf{cov}[\\textbf{x}] = \\sum_{j=1}^K \\pi_j{\\mathbb{\\Sigma}_j + \\mathbf{u}_j \\mathbf{u}_j^T} - \\mathbb{E}[\\textbf{x}]\\mathbb{E}[\\textbf{x}]^T\n",
    "$$\n",
    "where $\\mathbb{\\Sigma}_j = diag\\{\\mu_{jl}(1-\\mu_{jl})\\}$. Since the covariance matrix is no longer diagonal, the mixture of distriubtion can capture correlations between variables!\n",
    "\n",
    "Let $\\textbf{X}=\\{\\textbf{x}_i \\}_{i=1}^N$ be $N$ different realization of our $D$-dimensional random variables. \n",
    "\n",
    "Suppose that the each realization of the $D$-dimensional r.v. $\\textbf{x}$ has an hidden label indicating to which of the $K$ component of the mixture it correspond. We can model this introducing a latent variable $\\textbf{z} = (z_1, \\dots, z_K)$ associated to each $\\textbf{x}_i$ having a single component equal to 1, in correspondonce of the true mixture component to which $\\textbf{x}$ belong, and 0 in all the other componenents. Which distribution to assign to such latent variable? The probability for $\\textbf{x}$ to be in a determinate cluster in is given by\n",
    "$$\n",
    "    p(z_j) = \\pi_j\n",
    "$$\n",
    "so\n",
    "$$\n",
    "    p(\\textbf{z}) \\sim cat(\\mathbf{\\pi}) := \\prod_{j=1}^K \\pi_j^{\\mathbb{1} \\{z_j=1\\}} \n",
    "$$\n",
    "where $\\mathbb{1} \\{z_j=1\\}$ evaluates to $1$ when $\\textbf{z} = (0, \\dots,1, \\dots, 0)$ i.e. when $z_j=1$, $0$ in all the other cases.  \n",
    "\n",
    "The mixture of Bernoulli model is simply defined by\n",
    "$$\n",
    "    \\textbf{z} | \\pi  \\sim cat(\\mathbf{\\pi})\n",
    "$$\n",
    "$$\n",
    "    p(\\textbf{x}_i | \\mathbf{u}, \\mathbf{z}_i) =  \\prod_{j=1}^K \\left(\\prod_{l=1}^{D} \\mu_{jl}^{x_{il}}(1-\\mu_{jl})^{1-x_{il}}\\right)^{\\mathbb{1} \\{z_j=1\\}} \n",
    "$$\n"
   ]
  },
  {
   "cell_type": "markdown",
   "id": "b5f4aa6a-d894-4904-8791-0e6e363676c8",
   "metadata": {},
   "source": [
    "## Let's get back to earth \n",
    "What can we do with this model?  \n",
    "\n",
    "Let $\\textbf{x}= \\{ x_l\\}_{l=1}^D$ be an image composed of $D$ binary pixel. Each pixel of $x_l$ can be modelled by a Bernoulli distribution of parameter $\\mu_l$ as in \\ref{ber}. So the image itself, considered as a $D$-dimensional r.v., can be modelled by the distribution considered in \\ref{mber}.  \n",
    "\n",
    "Consider now our dataset composed of $N$ different binary images $X = \\{\\textbf{x}_i \\}_{i=1}^N$ and suppose that each image is sampled from one of the $K$ different subpopulations. For instance consider the MNIST dataset: each image represent an handwritten digit from 1 to 9. In this case images are drawn from one of the 9 different possible subpopolation, represented by a specific digit. Each subpopulation is thus modelled by  density described in \\ref{mber}, and so, the overall data model can be described the mixture of Bernoulli described in \\ref{mixber}."
   ]
  },
  {
   "cell_type": "markdown",
   "id": "659ae418-86fe-4a83-b3c1-06d5c7b0d2ec",
   "metadata": {},
   "source": [
    "## The Bayesian treatment\n",
    "Let's starting introducing a prior over $\\pi$. As $\\pi$ represent a probability over a $K$-dimensional simplex $S_k$, a right choice for his prior distribution can be represented by a Diriclet distribution, often referred as a \"probability distribution over probability distribution\": \n",
    "$$\n",
    "    \\pi \\sim Dir(\\mathbf{\\alpha}) := \\frac{\\prod_{j=1}^K \\Gamma(\\alpha_j)}{\\Gamma(\\sum_{j=1}^K \\alpha_j)} \\prod_{j=1}^K \\pi_j^{\\alpha_j -1}  \n",
    "$$\n",
    "where $\\mathbf{\\alpha} = (\\alpha/K, \\dots, \\alpha/K)$.  \n",
    "\n",
    "The other parameter for which we want to introduce a prior is the mean $\\mu_l$ of the single data point $x_l$. As the support for $\\mu_l$ is $[0,1]$ and the $\\mu_l$ is bernoulli distribuited, an effective prior is given by the Beta distribution, which is a conjugate prior for the Bernoulli:\n",
    "$$\n",
    "    \\mu_{jl} \\sim Beta(a,b) := \\frac{\\Gamma(a+b)}{\\Gamma(a)\\Gamma(b)} \\mu_{jl}^{a-1}(1-\\mu_{jl})^{b-1}\n",
    "$$  \n",
    "\n",
    "The complete Bayesian model is summered below.  \n",
    "\n",
    "Given $\\textbf{X}=\\{\\textbf{x}_i \\}_{i=1}^N$, with $\\textbf{x}_i= \\{ x_{il}\\}_{l=1}^D$:\n",
    "\n",
    "$$\n",
    "    x_{il} | \\textbf{z}_i = j, \\mu \\sim Bern(\\mu_{jl})\n",
    "$$\n",
    "$$\n",
    "    \\textbf{z}_i | \\pi \\sim Cat(\\pi)\n",
    "$$\n",
    "$$\n",
    "    \\pi \\sim \\sim Dir(\\alpha/K, \\dots, \\alpha/K)\n",
    "$$\n",
    "$$\n",
    "    \\mu_{jl} \\sim Beta(a,b)\n",
    "$$\n",
    "where:  \n",
    "- $\\textbf{U} = \\{\\textbf{u}_j \\}_{j=1}^K$,    $\\textbf{u}_j = \\{u_{jl} \\}_{l=1}^D$\n",
    "- $\\mathbf{\\pi} = (\\pi_1, \\dots, \\pi_K)$\n",
    "- for $\\textbf{z}_i = j$ we mean that $\\textbf{z}_i = (z_{i1} = 0, \\dots,z_{ij} = 1 ,\\dots z_{iK}=0)$.\n",
    "- $K$ and $D$ are fixed constant.  \n",
    "\n",
    "Getting back to earth again, let's try to stretch our intuition: we are assuming that a single data point $\\textbf{x}$ can belongs to $K$ different clusters with means $\\textbf{u}_j$ and that $\\pi_j$ is the unknown prior probability of that data belonging to the the j-th cluster. We are assuming that we have no initial information to distinguish the cluster, which is capture by the symmetric prior $Dir(\\alpha/K, \\dots, \\alpha/K)$. We further assign independent and identical prior distribution to each of cluster means.\n"
   ]
  },
  {
   "cell_type": "markdown",
   "id": "69d36650-387c-4dd6-9c9e-0f234281ce11",
   "metadata": {},
   "source": [
    "## The Gibbs Sampler\n",
    "Assume $\\theta = (\\theta_1, \\dots, \\theta_K)$. Gibbs Sampling is a method for sampling from a distribution of at least two dimension.  \n",
    "\n",
    "It can be viewed as a Metropolis method in which the proposal distribution $Q$ is de\f",
    "fined in terms of the conditional distributions of the joint distribution $P(\\theta)$. It is assumed that whilst $P(\\theta)$ is too complex to draw samples from directly, its conditional distributions $P(\\theta_i | \\theta_{-i})$ are tractable to work with.  \n",
    "\n",
    "In the general case of a system with $K$ variables, a single iteration involves sampling one parameter at a time:  \n",
    "\\begin{align*}\n",
    "\\theta_{1}^{(t+1)} &\\sim P(\\theta_{1} | \\theta_{2}^{(t)}, \\theta_{3}^{(t)}, \\dots, \\theta_{K}^{(t)}) \\\\\n",
    "\\theta_{2}^{(t+1)} &\\sim P(\\theta_{2} | \\theta_{1}^{(t+1)}, \\theta_{3}^{(t)}, \\dots, \\theta_{K}^{(t)}) \\\\\n",
    "\\theta_{3}^{(t+1)} &\\sim P(\\theta_{3} | \\theta_{1}^{(t+1)}, \\theta_{2}^{(t+1)}, \\dots, \\theta_{K}^{(t)}), \\dots\n",
    "\\end{align*}\n",
    "Gibbs sampling can be viewed as a Metropolis method which has the property that every proposal is always accepted. Because Gibbs sampling is a Metropolis method, the probability distribution of $\\theta^{(t)}$ tends to $P(\\theta)$ as\n",
    "$t  \\xrightarrow[]{} \\infty $."
   ]
  },
  {
   "cell_type": "markdown",
   "id": "f1678bb9-fbf0-4dc9-b4e1-e3a56848259d",
   "metadata": {},
   "source": [
    "## The Gibbs sampler for the multivariate Bayesian Mixture of Bernoulli\n",
    "The goal is sample from the posterior distribution $p(\\textbf{Z}, \\textbf{U}, \\pi  | \\textbf{X})$ where:\n",
    "- $\\textbf{X}=\\{\\textbf{x}_i \\}_{i=1}^N$\n",
    "- $\\textbf{U} = \\{\\textbf{u}_j \\}_{j=1}^K$\n",
    "- $\\textbf{Z} = (\\textbf{z}_1, \\dots, \\textbf{z}_N)$\n",
    "- $\\mathbf{\\pi} = (\\pi_1, \\dots, \\pi_K)$\n",
    "\n",
    "We start noting that\n",
    "$$\n",
    "    p(\\textbf{Z}, \\textbf{U} , \\pi  | \\textbf{X}) \\propto p(\\textbf{Z} , \\textbf{U}, \\textbf{X}, \\pi) = p(\\pi)p(\\textbf{Z}|\\pi)p(\\textbf{U})p(\\textbf{X} | \\textbf{Z}, \\textbf{U})\n",
    "$$\n",
    "$$\n",
    "    = p(\\pi) \\left( \\prod_{i=1}^N p(\\textbf{z}_i|\\pi) \\right) \\left(\\prod_{j=1}^J \\prod_{l=1}^D p( \\mu_{jl})  \\right) \\left( \\prod_{i=1}^N \\prod_{l=1}^D p(x_{il} | \\textbf{z}_i) \\right)\n",
    "$$  \n",
    "\n",
    "The full conditionals are (see appendix for derivation):  "
   ]
  },
  {
   "cell_type": "markdown",
   "id": "a7ed4d19-2841-46c2-a779-707f52154799",
   "metadata": {},
   "source": [
    "1. $$ \n",
    "    p(\\pi | \\textbf{Z}, \\textbf{U}, \\textbf{X}) = Dir(\\pi | N_1 + \\alpha/K, \\dots, N_K + \\alpha/K) \n",
    "$$\n",
    "where $ N_j = \\sum_{i=1}^N  \\mathbf{1} \\{ \\textbf{z}_i = j \\} $ is the number of data point $\\textbf{x}$ associated with to class $j = 1, \\dots,K$. Note how the Diriclet distribution gives us a vector representing a probability over the $K$-dimensional simplex."
   ]
  },
  {
   "cell_type": "markdown",
   "id": "68998e3a-557c-4f58-bd05-a1e06e22d443",
   "metadata": {},
   "source": [
    "2. $$\n",
    "   p(\\textbf{U} | \\textbf{Z}, \\textbf{X}, \\pi)  = \\prod_{j=1}^K p(\\textbf{u}_j | \\textbf{Z}, \\textbf{X}, \\pi) = \\prod_{j=1}^K \\left( \\prod_{l=1}^D p(u_{lj} | \\textbf{Z}, \\textbf{X}, \\pi) \\right) \n",
    "$$\n",
    "where \n",
    "$$\n",
    "    p(u_{lj} | \\textbf{Z}, \\textbf{X}, \\pi) =  Beta(\\mu_{jl} | \\sum_{i=1}^{N_j} \\mathbb{1} \\{z_j=1\\}x_{il} + a,  N_j - \\sum_{i=1}^{N_j} \\mathbb{1} \\{z_j=1\\}x_{il} + b)\n",
    "$$\n"
   ]
  },
  {
   "cell_type": "markdown",
   "id": "bb10cf39-2044-473c-b70b-4eebf0d4c548",
   "metadata": {},
   "source": [
    "\n",
    "3. $$\n",
    "      p(\\textbf{Z} | \\textbf{U}, \\textbf{X}, \\pi) =  \\prod_{i=1}^N   p(\\textbf{z}_i | \\textbf{U}, \\textbf{x}_i, \\pi)\n",
    "$$\n",
    "where\n",
    "$$\n",
    "    p(\\textbf{z}_i | \\textbf{U}, \\textbf{x}_i, \\pi) = Cat(\\textbf{z}_i | z_{i}, \\dots, z_{iK})\n",
    "$$\n",
    "with\n",
    "$$\n",
    "    z_{ij} =  \\pi_{j} \\prod_{l=1}^D \\mu_{jl}^{x_{il}}(1-\\mu_{jl})^{1-x_{il}} =  \\exp\\{ \\ln(\\pi_{j}) + \\sum_{l=1}^D x_{il} \\ln (\\mu_{jl}) \\}\n",
    "$$\n",
    "\n",
    "   \n",
    "\n"
   ]
  },
  {
   "cell_type": "markdown",
   "id": "5752be92-26ef-457b-8ba0-4f163ade29b6",
   "metadata": {},
   "source": [
    "Here follows the complete Gibbs sampler algorithm:\n",
    "\n",
    "__Gibbs Sampling for Bayesian Mixture of Bernoulli__\n",
    "\n",
    "0. __Initialize__ $\\pi^{(0)} = (\\pi_1^{(0))}, \\dots, \\pi_K^{(0)})$, and $\\textbf{u}_j^{(0)} = (\\mu_{j1}^{(0)}, \\dots, \\mu_{jD}^{(0)} )$ for all $j$\n",
    "   \n",
    "1. __For__ $t=1, \\dots, T$:\n",
    "   - compute $z_{ij} = \\pi_{j}^{(t-1)}\\prod_{l=1}^D \\left(\\mu_{jl}^{(t-1)}\\right)^{x_{il}}\\left(1 - \\mu_{jl}^{(t-1)}\\right)^{1-x_{il}}$ and $z_i = \\sum_{j=1}^K z_{ij}$ for all $i, j$\n",
    "     \n",
    "   - sample $\\textbf{z}_i^{(t)} \\sim Cat(z_{i}, \\dots, z_{iK})/ z_i$ for all $i$\n",
    "     \n",
    "   - sample $\\pi^{(t)}  \\sim Dir(\\pi | N_1 + \\alpha/K, \\dots, N_K + \\alpha/K) $ where $ N_j = \\sum_{i=1}^N  \\mathbf{1} \\{ \\textbf{z}_i^{(t)} = j \\} $\n",
    "\n",
    "   - sample $\\mu_{jl}^{(t)} \\sim Beta(\\mu_{jl} | \\sum_{i=1}^{N_j} \\mathbb{1} \\{z_j=1\\}x_{il} + a,N_j - \\sum_{i=1}^{N_j} \\mathbb{1} \\{z_j=1\\}x_{il} + b)$ for all $j$, $l$\n",
    "  \n",
    "2. __End__"
   ]
  },
  {
   "cell_type": "markdown",
   "id": "cdf9f663-0014-49d6-bc14-35122e519296",
   "metadata": {},
   "source": [
    "# Implementation"
   ]
  },
  {
   "cell_type": "code",
   "execution_count": 180,
   "id": "62ac5557-4e29-4132-a648-0f35e1c3da79",
   "metadata": {},
   "outputs": [],
   "source": [
    "# MU = K x D, X = N x D, pi = 1 x K, return Z = N x K\n",
    "def sample_z(pi, MU, X):\n",
    "    N = X.shape[0]\n",
    "    K = MU.shape[0]\n",
    "\n",
    "    Z = np.zeros((N, K))\n",
    "    z_i = np.zeros(K)\n",
    "    \n",
    "    for i in np.arange(N):\n",
    "        for j in np.arange(K):\n",
    "            z_i[j] = np.exp(np.log(pi[j]) + np.sum(X[i,:]*np.log(MU[j,:])))\n",
    "        \n",
    "        cat = tfp.distributions.Categorical(probs=z_i)\n",
    "        sample = cat.sample()\n",
    "        Z[i, sample] = 1\n",
    "        \n",
    "    return Z"
   ]
  },
  {
   "cell_type": "code",
   "execution_count": 208,
   "id": "4d7b1c8c-c78b-4dbc-b922-dd4e6330976e",
   "metadata": {},
   "outputs": [],
   "source": [
    "# Z = N x K, alpha = 1 x 1, return pi = 1 x K\n",
    "def sample_pi(Z, alpha):\n",
    "    K = Z.shape[1]\n",
    "    N_j = np.sum(Z, axis=0)\n",
    "\n",
    "    alphas = N_j + (np.repeat(alpha, K) / K)\n",
    "    dir = tfp.distributions.Dirichlet(alphas)\n",
    "    pi = dir.sample()\n",
    "\n",
    "    return pi"
   ]
  },
  {
   "cell_type": "code",
   "execution_count": 222,
   "id": "d9189309-52e2-460e-8929-34fdcef26931",
   "metadata": {},
   "outputs": [],
   "source": [
    "# X = N x D, Z = N x K, a = 1x1, b=1x1, return MU = K x D\n",
    "def sample_mu(X, Z, a, b):\n",
    "    N_j = np.sum(Z, axis=0)\n",
    "    K = Z.shape[1]\n",
    "    N = X.shape[0]\n",
    "    D = X.shape[1]\n",
    "\n",
    "    MU = np.zeros((K, D))\n",
    "\n",
    "    for j in np.arange(K):\n",
    "        for l in np.arange(D):\n",
    "            sum_x_for_group_j = np.sum(X[: , l]*Z[:, j])\n",
    "            beta = tfp.distributions.Beta(sum_x_for_group_j + a, N_j[j] - sum_x_for_group_j + b)\n",
    "            MU[j,l] = beta.sample()\n",
    "\n",
    "    return MU"
   ]
  },
  {
   "cell_type": "code",
   "execution_count": 459,
   "id": "54e17c5f-5ff8-4fae-8394-9bbb9a86275b",
   "metadata": {},
   "outputs": [],
   "source": [
    "# X = N x D, Z = N x K, MU = K x D, pi = 1 x K\n",
    "def gibbs_sampler(hyperparameter, initial_value, X, T):\n",
    "    N = X.shape[0]\n",
    "    K = initial_value[\"MU\"].shape[1]\n",
    "    D = X.shape[1]\n",
    "    \n",
    "    pi_t = initial_value[\"pi\"]\n",
    "    MU_t = initial_value[\"MU\"]\n",
    "    Z_t = np.zeros((N,K))\n",
    "\n",
    "    alpha = hyperparameter[\"alpha\"]\n",
    "    a = hyperparameter[\"a\"]\n",
    "    b = alpha = hyperparameter[\"b\"]\n",
    "\n",
    "    # Initialize parameter chains to store samples\n",
    "    Z_chain = np.zeros((T, N, K))\n",
    "    MU_chain = np.zeros((T, K, D))\n",
    "    pi_chain = np.zeros((T, K))\n",
    "    \n",
    "    for t in np.arange(T):\n",
    "        Z_t = sample_z(pi_t, MU_t, X)\n",
    "        pi_t = sample_pi(Z_t, alpha)\n",
    "        MU_t = sample_mu(X, Z_t, a, b)\n",
    "\n",
    "        # Save parameter samples at each iteration\n",
    "        Z_chain[t, :, :] = Z_t\n",
    "        MU_chain[t, :, :] = MU_t\n",
    "        pi_chain[t, :, :] = pi_t\n",
    "\n",
    "        if not (t % np.ceil(T/5).astype(int)):\n",
    "            print(\"Iteration: \", t)\n",
    "\n",
    "    return Z_chain, MU_chain, pi_chain"
   ]
  },
  {
   "cell_type": "markdown",
   "id": "6489de54-f1be-48c9-858e-a03370a073ee",
   "metadata": {},
   "source": [
    "# Testing\n",
    "\n",
    "## Synthetic data generation\n",
    "\n",
    "Assume the following true data generating process: $D = 16$, $N=100$, $K=2$, \n",
    "- $\\pi_1 = 1/2$, $\\pi_2 = 1/2$\n",
    "- $\\textbf{u}_1 = (.8,.8,.8,.8,.8,.8,.8,.8, .2, .2,.2,.2, .2, .2,.2,.2)$\n",
    "- $\\textbf{u}_2 = (.2, .2,.2,.2, .2, .2,.2,.2,.8,.8,.8,.8,.8,.8,.8,.8,)$\n",
    "  $$p(\\textbf{x}) = \\pi_1 Ber(\\textbf{u}_1) + \\pi_2 Ber(\\textbf{u}_2)$$"
   ]
  },
  {
   "cell_type": "code",
   "execution_count": 461,
   "id": "ddf4a1da-f839-4d3f-b417-f8a7fe33faf9",
   "metadata": {},
   "outputs": [],
   "source": [
    "N = 100\n",
    "D = 16\n",
    "K = 2\n",
    "pi_1 = 1/2\n",
    "pi_2 = 1/2\n",
    "mu_1 = np.array([.8,.8,.8,.8,.8,.8,.8,.8, .2, .2,.2,.2, .2, .2,.2,.2])\n",
    "mu_2 = np.array([.2, .2,.2,.2, .2, .2,.2,.2,.8,.8,.8,.8,.8,.8,.8,.8,])\n",
    "\n",
    "\n",
    "data = np.zeros((N, D))\n",
    "for i in np.arange(N):\n",
    "    u = np.random.rand()\n",
    "\n",
    "    if u < 1/2:\n",
    "        data[i, :] = np.random.binomial(1, p=mu_1)\n",
    "    else:\n",
    "        data[i, :] = np.random.binomial(1, p=mu_2)"
   ]
  },
  {
   "cell_type": "code",
   "execution_count": 462,
   "id": "c02adf08-46e3-4efb-afdd-3bdd1ad087d6",
   "metadata": {},
   "outputs": [],
   "source": [
    "def visualize_binary_vectors(dataset, width, height, num_vectors=8):\n",
    "    fig, axes = plt.subplots(2, 4, figsize=(10, 5))\n",
    "\n",
    "    for i in range(num_vectors):\n",
    "        binary_vector = dataset[i, :]\n",
    "        binary_matrix = np.array(binary_vector).reshape((height, width))\n",
    "\n",
    "        # Plot each binary image as a subplot\n",
    "        n = np.ceil(num_vectors/2).astype(int)\n",
    "        ax = axes[i // n, i % n]\n",
    "        ax.imshow(binary_matrix)\n",
    "        ax.set_title(f'Image {i + 1}')\n",
    "\n",
    "    plt.tight_layout()\n",
    "    plt.show()"
   ]
  },
  {
   "cell_type": "code",
   "execution_count": 463,
   "id": "a727743c-1db7-481f-a7be-fdc6ed18ed66",
   "metadata": {},
   "outputs": [
    {
     "data": {
      "image/png": "[encoded data removed]",
      "text/plain": [
       "<Figure size 1000x500 with 8 Axes>"
      ]
     },
     "metadata": {},
     "output_type": "display_data"
    }
   ],
   "source": [
    "visualize_binary_vectors(data, 4,4)"
   ]
  },
  {
   "cell_type": "markdown",
   "id": "0156c899-3159-49f7-83e4-9fea13680f40",
   "metadata": {},
   "source": [
    "## Test on synthetic data \n",
    "\n",
    "We set $a=1$ and $b=1$ as hyperparameter for the beta prior to reflect the lack of information about the single pixel mean $\\mu_{lj}$. For the Diriclet prior, we set $\\alpha = 1$ to obtain an equal prior probability that data belongs to some particular cluster, as in the true synthetic generated data."
   ]
  },
  {
   "cell_type": "code",
   "execution_count": 464,
   "id": "3b01abc2-1e97-4bc0-acdf-e4d2e2ad29de",
   "metadata": {},
   "outputs": [],
   "source": [
    "# set hyperparameters\n",
    "mu_1_init = np.random.rand(16)\n",
    "mu_2_init = np.random.rand(16)\n",
    "MU_init = np.stack((mu_1_init, mu_2_init))\n",
    "pi_init = np.random.rand(2)\n",
    "\n",
    "hyper = {\n",
    "    \"a\" : 1, #flat prior for u_jl\n",
    "    \"b\" : 1,\n",
    "    \"alpha\" : 1 \n",
    "}\n",
    "\n",
    "# set initial value\n",
    "init = {\n",
    "    \"MU\" : MU_init,\n",
    "    \"pi\" : pi_init\n",
    "}\n",
    "\n",
    "T = 100"
   ]
  },
  {
   "cell_type": "code",
   "execution_count": 465,
   "id": "8d4b234c-70d1-4fa6-b10d-7173b79f5371",
   "metadata": {},
   "outputs": [
    {
     "ename": "ValueError",
     "evalue": "could not broadcast input array from shape (100,2) into shape (100,16)",
     "output_type": "error",
     "traceback": [
      "\u001b[0;31m---------------------------------------------------------------------------\u001b[0m",
      "\u001b[0;31mValueError\u001b[0m                                Traceback (most recent call last)",
      "Cell \u001b[0;32mIn[465], line 1\u001b[0m\n\u001b[0;32m----> 1\u001b[0m MU_chain, Z_chain, pi_chain \u001b[38;5;241m=\u001b[39m \u001b[43mgibbs_sampler\u001b[49m\u001b[43m(\u001b[49m\u001b[43mhyper\u001b[49m\u001b[43m,\u001b[49m\u001b[43m \u001b[49m\u001b[43minit\u001b[49m\u001b[43m,\u001b[49m\u001b[43m \u001b[49m\u001b[43mdata\u001b[49m\u001b[43m,\u001b[49m\u001b[43m \u001b[49m\u001b[43mT\u001b[49m\u001b[43m)\u001b[49m\n",
      "Cell \u001b[0;32mIn[459], line 26\u001b[0m, in \u001b[0;36mgibbs_sampler\u001b[0;34m(hyperparameter, initial_value, X, T)\u001b[0m\n\u001b[1;32m     23\u001b[0m MU_t \u001b[38;5;241m=\u001b[39m sample_mu(X, Z_t, a, b)\n\u001b[1;32m     25\u001b[0m \u001b[38;5;66;03m# Save parameter samples at each iteration\u001b[39;00m\n\u001b[0;32m---> 26\u001b[0m \u001b[43mZ_chain\u001b[49m\u001b[43m[\u001b[49m\u001b[43mt\u001b[49m\u001b[43m,\u001b[49m\u001b[43m \u001b[49m\u001b[43m:\u001b[49m\u001b[43m,\u001b[49m\u001b[43m \u001b[49m\u001b[43m:\u001b[49m\u001b[43m]\u001b[49m \u001b[38;5;241m=\u001b[39m Z_t\n\u001b[1;32m     27\u001b[0m MU_chain[t, :, :] \u001b[38;5;241m=\u001b[39m MU_t\n\u001b[1;32m     28\u001b[0m pi_chain[t, :, :] \u001b[38;5;241m=\u001b[39m pi_t\n",
      "\u001b[0;31mValueError\u001b[0m: could not broadcast input array from shape (100,2) into shape (100,16)"
     ]
    }
   ],
   "source": [
    "MU_chain, Z_chain, pi_chain = gibbs_sampler(hyper, init, data, T)"
   ]
  },
  {
   "cell_type": "markdown",
   "id": "7810f195-6fa0-4a6c-93a3-20c35d990e93",
   "metadata": {},
   "source": [
    "The following are the learned $\\textbf{U}$ and $\\pi$ vector: as you can see the model is able to reconstruct the image mean and cluster probability of the true data generating process."
   ]
  },
  {
   "cell_type": "code",
   "execution_count": 341,
   "id": "2625350d-5aa9-4ed4-843d-7bf3502db2b7",
   "metadata": {},
   "outputs": [
    {
     "data": {
      "text/plain": [
       "array([[0.40768194, 0.12910146, 0.22321077, 0.34660651, 0.32497224,\n",
       "        0.27673912, 0.1945884 , 0.3397192 , 0.80915988, 0.84551221,\n",
       "        0.73678237, 0.82261236, 0.88358082, 0.76762678, 0.80143018,\n",
       "        0.79982622],\n",
       "       [0.73635815, 0.65530774, 0.71769852, 0.824863  , 0.81147599,\n",
       "        0.83135783, 0.95483655, 0.554635  , 0.11523597, 0.15987012,\n",
       "        0.20707196, 0.21059047, 0.26000765, 0.15108562, 0.33239382,\n",
       "        0.23674774]])"
      ]
     },
     "execution_count": 341,
     "metadata": {},
     "output_type": "execute_result"
    }
   ],
   "source": [
    "MU_chain.shape"
   ]
  },
  {
   "cell_type": "code",
   "execution_count": 342,
   "id": "0d92fa60-570b-482c-953b-8097d823612d",
   "metadata": {},
   "outputs": [
    {
     "data": {
      "text/plain": [
       "array([0.53173922, 0.46826078])"
      ]
     },
     "execution_count": 342,
     "metadata": {},
     "output_type": "execute_result"
    }
   ],
   "source": [
    "pi_chain.shape"
   ]
  },
  {
   "cell_type": "code",
   "execution_count": null,
   "id": "ae9c1924-f702-473b-98a4-274b570d96e4",
   "metadata": {},
   "outputs": [],
   "source": [
    "# TODO: first discard the first 80 parameter of the chain\n",
    "\n",
    "# Calculate mean along the temporal axis\n",
    "mean_MU = np.mean(MU_chain, axis=0)\n",
    "mean_Z = np.mean(Z_chain, axis=0)\n",
    "mean_pi = np.mean(pi_chain, axis=0)\n",
    "\n",
    "# Calculate mode along the temporal axis\n",
    "# Note: scipy.stats.mode returns mode and counts, we only need the mode\n",
    "mode_MU = mode(MU_chain, axis=0).mode\n",
    "mode_Z = mode(Z_chain, axis=0).mode\n",
    "mode_pi = mode(pi_chain, axis=0).mode"
   ]
  },
  {
   "cell_type": "code",
   "execution_count": 343,
   "id": "1283ab22-15d0-4d6d-91d8-b191ddd43001",
   "metadata": {},
   "outputs": [
    {
     "data": {
      "image/png": "[encoded data removed]",
      "text/plain": [
       "<Figure size 1000x500 with 8 Axes>"
      ]
     },
     "metadata": {},
     "output_type": "display_data"
    }
   ],
   "source": [
    "MU_true = np.stack((mu_1, mu_2))\n",
    "MU_pred = mean_MU\n",
    "MU_true_and_pred = np.concatenate((MU_true, MU_t))\n",
    "MU_true_and_pred.shape\n",
    "visualize_binary_vectors(MU_true_and_pred,4,4, num_vectors=4)"
   ]
  },
  {
   "cell_type": "markdown",
   "id": "f9bde762-0e60-4ca1-9efe-a3e1479f23af",
   "metadata": {},
   "source": [
    "Note: second row represent the learned $\\textbf{U}$. First row represent the true $\\textbf{U}$."
   ]
  },
  {
   "cell_type": "markdown",
   "id": "0b7d9b59-74c2-47aa-9e05-cd8173547b61",
   "metadata": {},
   "source": [
    "## Test on MNIST dataset\n",
    "\n",
    "In the following we test the implemented model on a MINIST dataset."
   ]
  },
  {
   "cell_type": "code",
   "execution_count": 267,
   "id": "2ea31b29-c5db-4485-bcbe-6bd37edb9829",
   "metadata": {},
   "outputs": [],
   "source": [
    "from keras.datasets import mnist"
   ]
  },
  {
   "cell_type": "code",
   "execution_count": 286,
   "id": "3bb3b7ad-6fd4-47f3-861d-97c751740d32",
   "metadata": {},
   "outputs": [],
   "source": [
    "(X_train, y_train), (X_test, y_test) = mnist.load_data()"
   ]
  },
  {
   "cell_type": "code",
   "execution_count": 344,
   "id": "4c7c57db-54c1-433c-88c1-68f5f63944e4",
   "metadata": {},
   "outputs": [
    {
     "data": {
      "image/png": "[encoded data removed]",
      "text/plain": [
       "<Figure size 1000x500 with 8 Axes>"
      ]
     },
     "metadata": {},
     "output_type": "display_data"
    }
   ],
   "source": [
    "# Plot some digits\n",
    "num_samples = 8\n",
    "X_subset = X_train[:num_samples]\n",
    "\n",
    "# Reshape images to a vector (1D array)\n",
    "X_subset_reshaped = X_subset.reshape(num_samples, -1)\n",
    "\n",
    "width = X_subset.shape[2]  # Width of the original image\n",
    "height = X_subset.shape[1]  # Height of the original image\n",
    "\n",
    "visualize_binary_vectors(X_subset_reshaped, width, height, num_samples)"
   ]
  },
  {
   "cell_type": "code",
   "execution_count": 308,
   "id": "97ba50db-7dc8-4323-96d5-7280a4b6546f",
   "metadata": {},
   "outputs": [
    {
     "data": {
      "image/png": "[encoded data removed]",
      "text/plain": [
       "<Figure size 640x480 with 1 Axes>"
      ]
     },
     "metadata": {},
     "output_type": "display_data"
    }
   ],
   "source": [
    "# Plot histogram for the labels\n",
    "plt.hist(y_train,rwidth=0.9)\n",
    "plt.title('Histogram of MNIST Labels')\n",
    "plt.xlabel('Label')\n",
    "plt.ylabel('Frequency')\n",
    "plt.xticks(np.arange(10))\n",
    "plt.show()"
   ]
  },
  {
   "cell_type": "markdown",
   "id": "596c6cbb-0781-4882-bd19-58086fd1fbd7",
   "metadata": {},
   "source": [
    "Data is balanced as you can see above. "
   ]
  },
  {
   "cell_type": "markdown",
   "id": "50000838-64ae-4aaa-8dd2-21a6b125e653",
   "metadata": {},
   "source": [
    "__Digits 2, 3 and 4__"
   ]
  },
  {
   "cell_type": "markdown",
   "id": "8f49d7e7-9198-4ed8-875f-afe1ae41922c",
   "metadata": {},
   "source": [
    " We perform the test on the digits 2, 3 and 4. As data contain contain grey scale images (with each level represented as an int), we convert the selected images to binary using a simple treshold. Inference is performed sampling at random 1500 images from this preprocessed dataset. Class balance is conserved.    \n",
    " \n",
    "We perform several trial. First setting $T=100$ as number of iteration, then setting $T=200$. In the first case digits 3 and 4 were correctly identifiable on the cluster mean, but digit 2 was not easy to recognize. The problem do not present for the second setting.  \n",
    "\n",
    "Even here we set $a=1$ and $b=1$ as hyperparameter for the beta prior to reflect the lack of information about the single pixel mean $\\mu_{lj}$. For the Diriclet prior, we set $\\alpha = 1$ to obtain an equal prior probability that data belongs to some particular cluster, reflecting the label distribution of the test data."
   ]
  },
  {
   "cell_type": "code",
   "execution_count": 429,
   "id": "b4a9c021-9572-4804-bde1-ff56bb585576",
   "metadata": {},
   "outputs": [
    {
     "data": {
      "text/plain": [
       "(1500, 784)"
      ]
     },
     "execution_count": 429,
     "metadata": {},
     "output_type": "execute_result"
    }
   ],
   "source": [
    "# Data preparation\n",
    "# Select only images with labels 2,3 and 4\n",
    "selected_labels = [2, 3, 4]\n",
    "selected_indices = np.isin(y_train, selected_labels)\n",
    "X_selected = X_train[selected_indices]\n",
    "y_selected = y_train[selected_indices]\n",
    "\n",
    "# Convert images to binary using a threshold (e.g., 127)\n",
    "threshold = 127\n",
    "X_binary = (X_selected > threshold).astype(int)\n",
    "X_binary.shape\n",
    "\n",
    "# Reshape the data\n",
    "X_binary_reshaped = X_binary.reshape(X_binary.shape[0], -1)\n",
    "X_binary_reshaped.shape\n",
    "\n",
    "# Randomly sample 10000 image\n",
    "num_samples = 1500\n",
    "random_indices = np.random.choice(X_binary_reshaped.shape[0], num_samples, replace=False)\n",
    "X_sampled = X_binary_reshaped[random_indices]\n",
    "y_sampled = y_selected[random_indices]\n",
    "X_sampled.shape"
   ]
  },
  {
   "cell_type": "code",
   "execution_count": 439,
   "id": "0100e81f-422b-4356-a610-d399f8015bba",
   "metadata": {},
   "outputs": [
    {
     "data": {
      "image/png": "[encoded data removed]",
      "text/plain": [
       "<Figure size 1000x500 with 8 Axes>"
      ]
     },
     "metadata": {},
     "output_type": "display_data"
    }
   ],
   "source": [
    "# Visualize the pre-processed data\n",
    "num_samples = 8\n",
    "X_subset = X_sampled[:num_samples]\n",
    "\n",
    "width = X_binary.shape[2]  # Width of the original image\n",
    "height = X_binary.shape[1]  # Height of the original image\n",
    "\n",
    "visualize_binary_vectors(X_subset, width, height, num_samples)"
   ]
  },
  {
   "cell_type": "code",
   "execution_count": 434,
   "id": "743a71f8-001a-4698-ba25-0498801f21f2",
   "metadata": {},
   "outputs": [],
   "source": [
    "# set hyperparameters\n",
    "K =3\n",
    "D = width*height\n",
    "mu_0_init = np.random.rand(D)\n",
    "mu_1_init = np.random.rand(D)\n",
    "mu_2_init = np.random.rand(D)\n",
    "#mu_2_init = np.random.rand(D)\n",
    "MU_init = np.stack((mu_0_init, mu_1_init, mu_2_init))\n",
    "pi_init = np.random.rand(K)\n",
    "\n",
    "hyper = {\n",
    "    \"a\" : 1, #flat prior for u_jl\n",
    "    \"b\" : 1,\n",
    "    \"alpha\" : 1 \n",
    "}\n",
    "\n",
    "# set initial value\n",
    "init = {\n",
    "    \"MU\" : MU_init,\n",
    "    \"pi\" : pi_init\n",
    "}\n",
    "\n",
    "T = 200"
   ]
  },
  {
   "cell_type": "code",
   "execution_count": 435,
   "id": "292d2da9-f56f-4a9c-8503-c2789d1460f1",
   "metadata": {},
   "outputs": [
    {
     "name": "stdout",
     "output_type": "stream",
     "text": [
      "Iteration:  0\n",
      "Iteration:  40\n",
      "Iteration:  80\n",
      "Iteration:  120\n",
      "Iteration:  160\n"
     ]
    }
   ],
   "source": [
    "# Perform the inference\n",
    "MU_t, Z_t, pi_t = gibbs_sampler(hyper, init, X_sampled, T)"
   ]
  },
  {
   "cell_type": "code",
   "execution_count": 436,
   "id": "0b9e6c7b-8763-46e6-a0fe-32a053d64970",
   "metadata": {},
   "outputs": [
    {
     "data": {
      "image/png": "[encoded data removed]",
      "text/plain": [
       "<Figure size 1000x500 with 8 Axes>"
      ]
     },
     "metadata": {},
     "output_type": "display_data"
    }
   ],
   "source": [
    "visualize_binary_vectors(MU_t, width, height, num_vectors=3)"
   ]
  },
  {
   "cell_type": "code",
   "execution_count": 445,
   "id": "6293edb2-583a-4704-bd1f-efbe54629197",
   "metadata": {},
   "outputs": [],
   "source": [
    "tmp = np.zeros((5, MU_t.shape[0], MU_t.shape[1]))\n",
    "tmp[0,:,:] = MU_t"
   ]
  },
  {
   "cell_type": "code",
   "execution_count": 458,
   "id": "b83f37f2-6966-457c-8e7d-2b6455b78da4",
   "metadata": {},
   "outputs": [
    {
     "data": {
      "text/plain": [
       "array([[4.73160500e-03, 6.15730301e-03, 7.31599767e-04, ...,\n",
       "        2.19078829e-03, 2.34451955e-03, 3.04701532e-03],\n",
       "       [1.52290578e-03, 6.09144233e-04, 8.26282436e-05, ...,\n",
       "        2.14352661e-03, 1.35659503e-03, 3.88394336e-03],\n",
       "       [1.13006159e-02, 8.96673802e-04, 3.85169787e-03, ...,\n",
       "        6.32773628e-04, 6.98718079e-03, 1.64492337e-04]])"
      ]
     },
     "execution_count": 458,
     "metadata": {},
     "output_type": "execute_result"
    }
   ],
   "source": [
    "tmp[0]"
   ]
  },
  {
   "cell_type": "markdown",
   "id": "065acc79-a9f0-40a6-a51b-14971c4167f4",
   "metadata": {},
   "source": [
    "# Prediction\n",
    "\n",
    "Given a image $\\textbf{x}$, denote with $\\textbf{x}_q$ the uppper half of the image and with $\\textbf{x}_{-q}$ the bottom half of the image. We are interested in predicting $\\textbf{x}_{-q}$ given $\\textbf{x}_q$.  \n",
    "\n",
    "The predictive distribution we are intereseted in is  \n",
    "\n",
    "$$\n",
    "    p(\\textbf{x}_{-q} | \\textbf{x}_q) = \\sum_{\\textbf{z}} \\int p(\\textbf{x}_q | \\textbf{u}, \\textbf{z}, \\pi) p(\\textbf{u}, \\textbf{z}, \\pi | \\textbf{X}) d\\textbf{u}d\\pi\n",
    "$$\n",
    "that can be estimated with\n",
    "\n",
    "$$\n",
    "    \\frac{1}{T} \\sum_{t=1}^T p(\\textbf{x}_q | \\textbf{u}^{(t)}, \\textbf{z}^{(t)}, \\pi^{(t)})\n",
    "$$\n",
    "where\n",
    "$$\n",
    "    p(\\textbf{x}_q | \\textbf{u}, \\textbf{z}, \\pi) = \\prod_{j=1}^K \\left(\\prod_{l=1}^{D} \\mu_{jl}^{x_{ql}}(1-\\mu_{jl})^{1-x_{ql}}\\right)^{\\mathbb{1} \\{z_j=1\\}} \n",
    "$$\n",
    "and\n",
    "$$\n",
    "   (\\textbf{u}^{(t)}, \\textbf{z}^{(t)}, \\pi^{(t)}) \\sim p(\\textbf{u}, \\textbf{z}, \\pi | \\textbf{X})\n",
    "$$\n",
    "In this settings, we can obtain a sample $(\\textbf{u}^{(t)}, \\textbf{z}^{(t)}, \\pi^{(t)})$ at every iteration of the above defined Gibbs sampler"
   ]
  },
  {
   "cell_type": "markdown",
   "id": "df345131-95ce-4e58-ba1a-4e3defa3ad3a",
   "metadata": {},
   "source": [
    "# Appendix\n",
    "\n",
    "## Full conditionals derivations\n",
    "1. $$\n",
    "    p(\\pi | \\textbf{Z}, \\textbf{U}, \\textbf{X}) = p(\\textbf{Z}|\\pi) p(\\pi) = \\left( \\prod_{i=1}^N p(\\textbf{z}_i|\\pi) \\right) p(\\pi)\n",
    "$$\n",
    "\n",
    "$$\n",
    "      =  \\prod_{i=1}^N \\left( \\prod_{j=1}^K \\pi_j^{\\mathbf{1}\\{\\textbf{z}_i = 1\\}} \\frac{\\Gamma(\\alpha/K + \\dots + \\alpha/K)}{\\Gamma(\\alpha/K)\\dots\\Gamma(\\alpha/K)}  \\pi_j^{\\alpha/K -1} \\right)\n",
    "$$\n",
    "\n",
    "$$\n",
    "= \\frac{\\Gamma(\\alpha)}{\\Gamma(\\alpha/K)^K}\\prod_{j=1}^K \\pi_j^{\\sum_{i=1}^N \\mathbf{1}\\{\\textbf{z}_i = 1\\} + \\alpha/K -1} \n",
    "$$\n",
    "$$\n",
    "    \\sim Dir(\\pi | N_1 + \\alpha/K, \\dots, N_K + \\alpha/K)\n",
    "$$"
   ]
  },
  {
   "cell_type": "markdown",
   "id": "f86f5f72-8318-4168-bf1e-752ae8f682c5",
   "metadata": {},
   "source": [
    "2. $$\n",
    "   p(\\textbf{U} | \\textbf{Z}, \\textbf{X}, \\pi ) = \\prod_{j=1}^K p(\\textbf{u}_j | \\textbf{Z}, \\textbf{X}, \\pi) = \\prod_{j=1}^K \\left( \\prod_{l=1}^D p(u_{lj} | \\textbf{Z}, \\textbf{X}, \\pi) \\right)\n",
    "$$\n",
    "    with\n",
    "$$\n",
    "    p(u_{lj} | \\textbf{Z}, \\textbf{X}, \\pi) = p( \\mu_{jl}) \\prod_{i=1}^N p(x_{il} | \\textbf{z}_i) \n",
    "$$\n",
    "\n",
    "$$\n",
    "    = \\frac{1}{B(a,b)} \\mu_{jl}^{\\sum_{i=1}^{N_j}\\mathbb{1} \\{z_j=1\\}x_{il} + a -1}(1-\\mu_{jl})^{N_j -\\sum_{i=1}^{N_j}\\mathbb{1} \\{z_j=1\\}x_{il} + b -1} \n",
    "$$\n",
    "\n",
    "$$\n",
    "     \\sim Beta(\\mu_{jl} | \\sum_{i=1}^{N_j}\\mathbb{1} \\{z_j=1\\} x_{il} + a,  N_j - \\sum_{i=1}^{N_j} \\mathbb{1} \\{z_j=1\\}x_{il} + b)\n",
    "$$"
   ]
  },
  {
   "cell_type": "markdown",
   "id": "a5b7a0ae-7107-450a-a029-36225bc20ad1",
   "metadata": {},
   "source": [
    "3. $$\n",
    "      p(\\textbf{Z} | \\textbf{U}, \\textbf{X}, \\pi) =  \\prod_{i=1}^N   p(\\textbf{z}_i | \\textbf{U}, \\textbf{x}_i, \\pi)\n",
    "$$\n",
    "with\n",
    "$$\n",
    "   p(\\textbf{z}_i | \\textbf{U}, \\textbf{x}_i, \\pi) = p(\\textbf{x}_i | \\textbf{z}_i)p(\\textbf{z}_i | \\pi) = \n",
    "$$\n",
    "\n",
    "$$\n",
    "    =  \\prod_{j=1}^K \\pi_{j}^{\\mathbb{1} \\{z_j=1\\}} \\left(\\prod_{l=1}^{D} \\mu_{jl}^{x_{il}}(1-\\mu_{jl})^{1-x_{il}}\\right)^{\\mathbb{1} \\{z_j=1\\}} \n",
    "$$\n",
    "\n",
    "$$\n",
    "     = \\prod_{j=1}^K  \\left(\\pi_{j}  \\prod_{l=1}^D \\mu_{jl}^{x_{il}}(1-\\mu_{jl})^{1-x_{il}}\\right)^{\\mathbb{1} \\{z_j=1\\}}\n",
    "$$\n",
    "\n",
    "$$\n",
    "    \\sim Cat(\\textbf{z}_i | z_{i}, \\dots, z_{iK})\n",
    "$$\n",
    "$$\n",
    "    z_{ij} =  \\pi_{j} \\prod_{l=1}^D \\mu_{jl}^{x_{il}}(1-\\mu_{jl})^{1-x_{il}} =  \\exp\\{ \\ln(\\pi_{j}) + \\sum_{l=1}^D x_{il} \\ln (\\mu_{jl}) \\}\n",
    "$$"
   ]
  },
  {
   "cell_type": "markdown",
   "id": "28bdde24-9de4-4dc8-9f03-85cf4e224048",
   "metadata": {},
   "source": [
    "# References\n",
    "1. Bishop, Christopher M. Pattern Recognition and Machine Learning. New York :Springer, 2006, pp. 444-448\n",
    "2. Kevin P. Murphy. 2012. Machine Learning: A Probabilistic Perspective. The MIT Press, p. 955\n",
    "3. Stephen Tu, Learning mixture models. https://stephentu.github.io/writeups/mixturemodels.pdf\n",
    "4. Maaten, Laurens van der. “Bayesian Mixtures of Bernoulli Distributions.” (2010).\n",
    "5. Grantham, Neal S.. “Clustering Binary Data with Bernoulli Mixture Models.” (2014).\n",
    "6. C. Mollica, L. Tardella. Gibbs Sampler for Bayesian Normal Mixture Models. https://web.uniroma1.it/memotef/sites/default/files/file%20lezioni/Lezione3_CMollica.pdf \n"
   ]
  }
 ],
 "metadata": {
  "kernelspec": {
   "display_name": "bayesian-env",
   "language": "python",
   "name": "bayesian-env"
  },
  "language_info": {
   "codemirror_mode": {
    "name": "ipython",
    "version": 3
   },
   "file_extension": ".py",
   "mimetype": "text/x-python",
   "name": "python",
   "nbconvert_exporter": "python",
   "pygments_lexer": "ipython3",
   "version": "3.10.13"
  }
 },
 "nbformat": 4,
 "nbformat_minor": 5
}
